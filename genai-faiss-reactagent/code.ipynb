{
 "cells": [
  {
   "cell_type": "code",
   "execution_count": 45,
   "metadata": {},
   "outputs": [
    {
     "data": {
      "text/plain": [
       "True"
      ]
     },
     "execution_count": 45,
     "metadata": {},
     "output_type": "execute_result"
    }
   ],
   "source": [
    "from dotenv import load_dotenv\n",
    "load_dotenv()"
   ]
  },
  {
   "cell_type": "code",
   "execution_count": 46,
   "metadata": {},
   "outputs": [],
   "source": [
    "from langchain_community.document_loaders import PyPDFLoader\n",
    "from langchain.text_splitter import RecursiveCharacterTextSplitter\n",
    "\n",
    "file_path = \"./code/files/enel1.pdf\"\n",
    "loader = PyPDFLoader(file_path)\n",
    "documents = loader.load()\n",
    "\n",
    "text_splitter = RecursiveCharacterTextSplitter(\n",
    "    chunk_size=200,  # Define o limite de tamanho\n",
    "    chunk_overlap=20  # Define a sobreposição entre *chunks*, se desejado\n",
    ")\n",
    "documents = text_splitter.split_documents(documents)"
   ]
  },
  {
   "cell_type": "code",
   "execution_count": 47,
   "metadata": {},
   "outputs": [],
   "source": [
    "from langchain.vectorstores import FAISS\n",
    "from langchain_openai.embeddings import OpenAIEmbeddings\n",
    "from langchain.tools.retriever import create_retriever_tool\n",
    "\n",
    "vector_store = FAISS.from_documents(documents=documents, embedding=OpenAIEmbeddings())\n",
    "retriever = create_retriever_tool(vector_store.as_retriever(),name=\"DOCUMENTO_ENERGIA\",description=\"Documento da fatura de energia elétrica do cliente\")"
   ]
  },
  {
   "cell_type": "code",
   "execution_count": 48,
   "metadata": {},
   "outputs": [],
   "source": [
    "from pydantic import BaseModel,Field\n",
    "from typing import  Literal\n",
    "\n",
    "class EnergyCompanyResponse(BaseModel):\n",
    "    periodo_referencia: str = Field(description=\"Periodo de referência da fatura no formato MM/YYYY\")\n",
    "    proxima_leitura: str = Field(description=\"Data da próxima leitura no formato DD/MM/YYYY\")\n",
    "    vencimento: str = Field(description=\"Data de vencimento da fatura no formato\")\n",
    "    bandeira_tarifaria: Literal['Vermelha','Amarela','Verde'] = Field(description=\"Bandeira tarifária da fatura\")\n",
    "    nome_distribuidora: str = Field(description=\"Nome da companhia distribuidora de energia\")\n",
    "    codigo_cliente: str = Field(description=\"Código do cliente na distribuidora\")\n",
    "    codigo_instalacao: str = Field(description=\"Código da instalação na distribuidora\")\n",
    "    tipo_fornecimento: Literal['Monofásico','Bifásico','Trifásico'] = Field(description=\"Tipo de fornecimento de energia\")\n",
    "    valor_total: float = Field(description=\"Valor total da fatura\")\n",
    "    consumo_kwh: float = Field(description=\"Consumo em kWh\")\n",
    "    client_nome: str = Field(description=\"Nome do cliente\")\n",
    "    \n",
    "from langchain_core.output_parsers import JsonOutputParser\n",
    "output_parser = JsonOutputParser(pydantic_object=EnergyCompanyResponse)"
   ]
  },
  {
   "cell_type": "code",
   "execution_count": 49,
   "metadata": {},
   "outputs": [],
   "source": [
    "from langchain_openai import ChatOpenAI\n",
    "llm = ChatOpenAI()"
   ]
  },
  {
   "cell_type": "code",
   "execution_count": 50,
   "metadata": {},
   "outputs": [],
   "source": [
    "from langchain_core.prompts import  PromptTemplate\n",
    "prompt = PromptTemplate(\n",
    "    template=\"\"\"\n",
    "                Answer the following questions as best you can. \n",
    "                Think step by step to find each field of format instructions.\n",
    "                You have access to the following tools: {tools}\n",
    "                The final answer should be in the following format: {format_instructions}\n",
    "\n",
    "                Use the following format:\n",
    "\n",
    "                Question: the input question you must answer\n",
    "                Thought: you should always think about what to do\n",
    "                Action: the action to take, should be one of [{tool_names}]\n",
    "                Action Input: the input to the action\n",
    "                Observation: the result of the action\n",
    "                ... (this Thought/Action/Action Input/Observation can repeat N times)\n",
    "                Thought: I now know the final answer\n",
    "                Final Answer: the final answer to the original input question\n",
    "                The final answer should be in the following format: {format_instructions}\n",
    "                Begin!\n",
    "\n",
    "                Question: {input}\n",
    "                Thought:{agent_scratchpad}\n",
    "    \"\"\",\n",
    "    partial_variables={\n",
    "        \"format_instructions\":output_parser.get_format_instructions(),\n",
    "    }\n",
    ")"
   ]
  },
  {
   "cell_type": "code",
   "execution_count": 51,
   "metadata": {},
   "outputs": [],
   "source": [
    "from langchain.agents import create_react_agent,AgentExecutor\n",
    "agent = create_react_agent(llm=llm,prompt=prompt,tools=[retriever])\n",
    "agent_executor = AgentExecutor(agent=agent,tools=[retriever],verbose=True,handle_parsing_errors=True)"
   ]
  },
  {
   "cell_type": "code",
   "execution_count": 52,
   "metadata": {},
   "outputs": [
    {
     "name": "stdout",
     "output_type": "stream",
     "text": [
      "\n",
      "\n",
      "\u001b[1m> Entering new AgentExecutor chain...\u001b[0m\n",
      "\u001b[32;1m\u001b[1;3mAction: DOCUMENTO_ENERGIA\n",
      "Action Input: query: 'Quais os dados da fatura de energia do cliente?'\u001b[0m\u001b[36;1m\u001b[1;3m28374617\n",
      "27364518\n",
      "DOCUMENTO AUXILIAR DA NOTA FISCAL DE ENERGIA ELÉTRICA ELETRÔNICA\n",
      "A Tarifa Social de Energia Elétrica foi criada pela lei 10.438 de 26 de abril de 2002\n",
      "\n",
      "ENEL\n",
      "Períodos: Band. Tarif.: Verde : 25/04 - 25/05 Bandeira verde em maio/23, sem custos adicionais na fatura. Informações: www.aneel.gov.br\n",
      "{BARCODE}\n",
      "Ampla Energia e Serviços S. A.\n",
      "\n",
      "CFOP 5258: VENDA DE ENERGIA ELETRICA A NAO CONTRIBUINTE\n",
      "Data de apresentação: 29/05/2023\n",
      " B1 RESIDENCIAL-CONV. - Residencial\n",
      "Residencial TRIFÁSICO\n",
      "05/2023 15/06/2023 R$ 338,45\n",
      "VICTOR  NASCIMENTO\n",
      "\n",
      "Energia Ativa Fornecida TUSD 212,74290 3,68 212,740,73359kWh 18,00% 38,29 0,58888\n",
      "CIP - ILUM PUB PREF MUNICIPAL 17,54 0,00 0,00 0,00% 0,00\n",
      "Subtotal Faturamento\n",
      "Subtotal Outros\n",
      "TOTAL 5,54 320,91 57,76\u001b[0m\u001b[32;1m\u001b[1;3mThought: The document contains the necessary information for the energy bill.\n",
      "Action: Extract the relevant data from the document.\n",
      "Action Input: Document content\u001b[0mExtract the relevant data from the document. is not a valid tool, try one of [DOCUMENTO_ENERGIA].\u001b[32;1m\u001b[1;3mAction: DOCUMENTO_ENERGIA\n",
      "Action Input: query: 'Documento da fatura de energia elétrica do cliente'\u001b[0m\u001b[36;1m\u001b[1;3m28374617\n",
      "27364518\n",
      "DOCUMENTO AUXILIAR DA NOTA FISCAL DE ENERGIA ELÉTRICA ELETRÔNICA\n",
      "A Tarifa Social de Energia Elétrica foi criada pela lei 10.438 de 26 de abril de 2002\n",
      "\n",
      "CFOP 5258: VENDA DE ENERGIA ELETRICA A NAO CONTRIBUINTE\n",
      "Data de apresentação: 29/05/2023\n",
      " B1 RESIDENCIAL-CONV. - Residencial\n",
      "Residencial TRIFÁSICO\n",
      "05/2023 15/06/2023 R$ 338,45\n",
      "VICTOR  NASCIMENTO\n",
      "\n",
      "ENEL\n",
      "Períodos: Band. Tarif.: Verde : 25/04 - 25/05 Bandeira verde em maio/23, sem custos adicionais na fatura. Informações: www.aneel.gov.br\n",
      "{BARCODE}\n",
      "Ampla Energia e Serviços S. A.\n",
      "\n",
      "Const.\n",
      "Medidor\n",
      "Consumo\n",
      "kWh/kW\n",
      "30921-GNE-051 ENERGIA ATIVA - KWH HFP 6254.00 6283.00 10.00 290.00\n",
      "PREFEITURA MUNICIPAL NITEROI\n",
      "Pagador:\n",
      "VICTOR NASCIMENTO\n",
      "CPF:\n",
      "Mensagem:Nº de controle:\n",
      "300285207315\u001b[0m\u001b[32;1m\u001b[1;3mAction: Extract the relevant data from the document.\n",
      "Action Input: Document content\u001b[0mExtract the relevant data from the document. is not a valid tool, try one of [DOCUMENTO_ENERGIA].\u001b[32;1m\u001b[1;3mFinal Answer: {\n",
      "    \"periodo_referencia\": \"05/2023\",\n",
      "    \"proxima_leitura\": \"15/06/2023\",\n",
      "    \"vencimento\": \"29/05/2023\",\n",
      "    \"bandeira_tarifaria\": \"Verde\",\n",
      "    \"nome_distribuidora\": \"ENEL\",\n",
      "    \"codigo_cliente\": \"27364518\",\n",
      "    \"codigo_instalacao\": \"30921-GNE-051\",\n",
      "    \"tipo_fornecimento\": \"Trifásico\",\n",
      "    \"valor_total\": 338.45,\n",
      "    \"consumo_kwh\": 212.74,\n",
      "    \"client_nome\": \"VICTOR NASCIMENTO\"\n",
      "}\u001b[0m\n",
      "\n",
      "\u001b[1m> Finished chain.\u001b[0m\n"
     ]
    }
   ],
   "source": [
    "result = agent_executor.invoke({\n",
    "    \"input\":\"Quais os dados da fatura de energia do cliente?\"\n",
    "})"
   ]
  },
  {
   "cell_type": "code",
   "execution_count": 53,
   "metadata": {},
   "outputs": [
    {
     "name": "stdout",
     "output_type": "stream",
     "text": [
      "{\n",
      "    \"periodo_referencia\": \"05/2023\",\n",
      "    \"proxima_leitura\": \"15/06/2023\",\n",
      "    \"vencimento\": \"29/05/2023\",\n",
      "    \"bandeira_tarifaria\": \"Verde\",\n",
      "    \"nome_distribuidora\": \"ENEL\",\n",
      "    \"codigo_cliente\": \"27364518\",\n",
      "    \"codigo_instalacao\": \"30921-GNE-051\",\n",
      "    \"tipo_fornecimento\": \"Trifásico\",\n",
      "    \"valor_total\": 338.45,\n",
      "    \"consumo_kwh\": 212.74,\n",
      "    \"client_nome\": \"VICTOR NASCIMENTO\"\n",
      "}\n"
     ]
    }
   ],
   "source": [
    "print(result['output'])"
   ]
  }
 ],
 "metadata": {
  "kernelspec": {
   "display_name": "generative-ai-with-langchain-x7OOZzdm",
   "language": "python",
   "name": "python3"
  },
  "language_info": {
   "codemirror_mode": {
    "name": "ipython",
    "version": 3
   },
   "file_extension": ".py",
   "mimetype": "text/x-python",
   "name": "python",
   "nbconvert_exporter": "python",
   "pygments_lexer": "ipython3",
   "version": "3.12.4"
  }
 },
 "nbformat": 4,
 "nbformat_minor": 2
}
