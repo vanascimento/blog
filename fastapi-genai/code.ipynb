{
 "cells": [
  {
   "cell_type": "code",
   "execution_count": 3,
   "metadata": {},
   "outputs": [],
   "source": [
    "from langchain_community.document_loaders import PyPDFLoader\n",
    "file_path = \"./code/files/enel1.pdf\"\n",
    "loader = PyPDFLoader(file_path)\n",
    "pages = []\n",
    "for page in loader.load():\n",
    "    pages.append(page)"
   ]
  },
  {
   "cell_type": "code",
   "execution_count": 4,
   "metadata": {},
   "outputs": [],
   "source": [
    "from pydantic import BaseModel,Field\n",
    "from typing import  Literal\n",
    "\n",
    "class EnergyCompanyResponse(BaseModel):\n",
    "    periodo_referencia: str = Field(description=\"Periodo de referência da fatura no formato MM/YYYY\")\n",
    "    proxima_leitura: str = Field(description=\"Data da próxima leitura no formato DD/MM/YYYY\")\n",
    "    vencimento: str = Field(description=\"Data de vencimento da fatura no formato\")\n",
    "    bandeira_tarifaria: Literal['Vermelha','Amarela','Verde'] = Field(description=\"Bandeira tarifária da fatura\")\n",
    "    nome_distribuidora: str = Field(description=\"Nome da companhia distribuidora de energia\")\n",
    "    codigo_cliente: str = Field(description=\"Código do cliente na distribuidora\")\n",
    "    codigo_instalacao: str = Field(description=\"Código da instalação na distribuidora\")\n",
    "    tipo_fornecimento: Literal['Monofásico','Bifásico','Trifásico'] = Field(description=\"Tipo de fornecimento de energia\")\n",
    "    valor_total: float = Field(description=\"Valor total da fatura\")\n",
    "    consumo_kwh: float = Field(description=\"Consumo em kWh\")\n",
    "    client_nome: str = Field(description=\"Nome do cliente\")\n",
    "    \n",
    "from langchain_core.output_parsers import JsonOutputParser\n",
    "output_parser = JsonOutputParser(pydantic_object=EnergyCompanyResponse)"
   ]
  },
  {
   "cell_type": "code",
   "execution_count": 6,
   "metadata": {},
   "outputs": [],
   "source": [
    "from langchain_openai import ChatOpenAI\n",
    "#llm = ChatOllama(model=\"phi3.5\",temperature=0)\n",
    "from dotenv import load_dotenv\n",
    "load_dotenv()\n",
    "llm = ChatOpenAI()"
   ]
  },
  {
   "cell_type": "code",
   "execution_count": 7,
   "metadata": {},
   "outputs": [],
   "source": [
    "from langchain_core.prompts import  PromptTemplate\n",
    "prompt = PromptTemplate(\n",
    "    template=\"\"\"\n",
    "                A resposta deve conter exclusivamente a informação em JSON, sem nenhum texto adicional.\n",
    "                A resposta deve ser no formato e somente com os campos abaixo: \\n\n",
    "                {format_instructions}\n",
    "                O texto da fatura é o seguinte: \\n\n",
    "                {context}\n",
    "    \"\"\",\n",
    "    input_variables=[\"context\"],\n",
    "    partial_variables={\n",
    "        \"format_instructions\": output_parser.get_format_instructions()\n",
    "    }\n",
    ")"
   ]
  },
  {
   "cell_type": "code",
   "execution_count": 8,
   "metadata": {},
   "outputs": [
    {
     "name": "stderr",
     "output_type": "stream",
     "text": [
      "/var/folders/mv/t88fcmds6cq7j7_hsq_34jnh0000gn/T/ipykernel_62689/4006064218.py:2: LangChainDeprecationWarning: This class is deprecated. See the following migration guides for replacements based on `chain_type`:\n",
      "stuff: https://python.langchain.com/docs/versions/migrating_chains/stuff_docs_chain\n",
      "map_reduce: https://python.langchain.com/docs/versions/migrating_chains/map_reduce_chain\n",
      "refine: https://python.langchain.com/docs/versions/migrating_chains/refine_chain\n",
      "map_rerank: https://python.langchain.com/docs/versions/migrating_chains/map_rerank_docs_chain\n",
      "\n",
      "See also guides on retrieval and question-answering here: https://python.langchain.com/docs/how_to/#qa-with-rag\n",
      "  qa_chain = load_qa_chain(llm=llm,chain_type=\"stuff\",prompt=prompt,verbose=False)\n",
      "/var/folders/mv/t88fcmds6cq7j7_hsq_34jnh0000gn/T/ipykernel_62689/4006064218.py:3: LangChainDeprecationWarning: The method `Chain.run` was deprecated in langchain 0.1.0 and will be removed in 1.0. Use :meth:`~invoke` instead.\n",
      "  response = qa_chain.run(input_documents=pages,question=\"Extraia as informações requisitadas da fatura de energia\",output_parser=output_parser)\n"
     ]
    },
    {
     "name": "stdout",
     "output_type": "stream",
     "text": [
      "{\n",
      "    \"periodo_referencia\": \"05/2023\",\n",
      "    \"proxima_leitura\": \"15/06/2023\",\n",
      "    \"vencimento\": \"15/06/2023\",\n",
      "    \"bandeira_tarifaria\": \"Verde\",\n",
      "    \"nome_distribuidora\": \"Ampla Energia e Serviços S. A.\",\n",
      "    \"codigo_cliente\": \"4680\",\n",
      "    \"codigo_instalacao\": \"1847656\",\n",
      "    \"tipo_fornecimento\": \"Trifásico\",\n",
      "    \"valor_total\": 338.45,\n",
      "    \"consumo_kwh\": 320.91,\n",
      "    \"client_nome\": \"VICTOR DE AGUIAR NASCIMENTO\"\n",
      "}\n"
     ]
    }
   ],
   "source": [
    "from langchain.chains.question_answering import  load_qa_chain\n",
    "qa_chain = load_qa_chain(llm=llm,chain_type=\"stuff\",prompt=prompt,verbose=False)\n",
    "response = qa_chain.run(input_documents=pages,question=\"Extraia as informações requisitadas da fatura de energia\",output_parser=output_parser)\n",
    "print(response)"
   ]
  },
  {
   "cell_type": "code",
   "execution_count": 9,
   "metadata": {},
   "outputs": [
    {
     "data": {
      "text/plain": [
       "{'periodo_referencia': '05/2023',\n",
       " 'proxima_leitura': '15/06/2023',\n",
       " 'vencimento': '15/06/2023',\n",
       " 'bandeira_tarifaria': 'Verde',\n",
       " 'nome_distribuidora': 'Ampla Energia e Serviços S. A.',\n",
       " 'codigo_cliente': '4680',\n",
       " 'codigo_instalacao': '1847656',\n",
       " 'tipo_fornecimento': 'Trifásico',\n",
       " 'valor_total': 338.45,\n",
       " 'consumo_kwh': 320.91,\n",
       " 'client_nome': 'VICTOR DE AGUIAR NASCIMENTO'}"
      ]
     },
     "execution_count": 9,
     "metadata": {},
     "output_type": "execute_result"
    }
   ],
   "source": [
    "output_parser.parse(response)"
   ]
  }
 ],
 "metadata": {
  "kernelspec": {
   "display_name": "generative-ai-with-langchain-x7OOZzdm",
   "language": "python",
   "name": "python3"
  },
  "language_info": {
   "codemirror_mode": {
    "name": "ipython",
    "version": 3
   },
   "file_extension": ".py",
   "mimetype": "text/x-python",
   "name": "python",
   "nbconvert_exporter": "python",
   "pygments_lexer": "ipython3",
   "version": "3.12.4"
  }
 },
 "nbformat": 4,
 "nbformat_minor": 2
}
